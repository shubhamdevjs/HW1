{
 "cells": [
  {
   "cell_type": "code",
   "execution_count": 1,
   "id": "0602c824-c2de-4553-88bc-d4b09c880072",
   "metadata": {
    "tags": []
   },
   "outputs": [],
   "source": [
    "import torch\n",
    "import torch.nn as nn\n",
    "import torch.optim as optim"
   ]
  },
  {
   "cell_type": "code",
   "execution_count": 3,
   "id": "0307c428-76f7-458d-9fb8-94598793eb02",
   "metadata": {
    "tags": []
   },
   "outputs": [],
   "source": [
    "from torchvision import datasets, transforms\n",
    "from torch.autograd import Variable\n",
    "from PIL import Image\n",
    "import torch.nn.functional as F\n",
    "import numpy as np\n",
    "import matplotlib.pyplot as plt\n",
    "import os"
   ]
  },
  {
   "cell_type": "code",
   "execution_count": 16,
   "id": "1faa1c14-d768-4455-9396-8f49d265fe41",
   "metadata": {
    "tags": []
   },
   "outputs": [],
   "source": [
    "def data_loader(train_batch_size, test_batch_size):\n",
    "    transform = transforms.Compose([\n",
    "        transforms.Resize((32, 32)),  \n",
    "        transforms.ToTensor()         \n",
    "    ])\n",
    "\n",
    "    train_data = torch.utils.data.DataLoader(\n",
    "        datasets.MNIST('data', train=True, download=True, transform=transform),\n",
    "        batch_size=train_batch_size,\n",
    "        shuffle=True  \n",
    "    )\n",
    "\n",
    "    test_data = torch.utils.data.DataLoader(\n",
    "        datasets.MNIST('data', train=False, download=True, transform=transform),\n",
    "        batch_size=test_batch_size,\n",
    "        shuffle=False  \n",
    "    )\n",
    "\n",
    "    return train_data, test_data"
   ]
  },
  {
   "cell_type": "code",
   "execution_count": 17,
   "id": "8f1dd385-fc61-4b66-a598-e59dcce6b00f",
   "metadata": {
    "tags": []
   },
   "outputs": [],
   "source": [
    "class Model(nn.Module):\n",
    "    def __init__(self):\n",
    "        super(Model, self).__init__()\n",
    "        \n",
    "        self.c1 = nn.Conv2d(1, 6, 5)\n",
    "        self.c2 = nn.Conv2d(6, 16, 5)\n",
    "        self.l1 = nn.Linear(16 * 5 * 5, 120)\n",
    "        self.l2 = nn.Linear(120, 84)\n",
    "        self.l3 = nn.Linear(84, 10)\n",
    "\n",
    "    def forward(self, x):\n",
    "        x = F.max_pool2d(F.relu(self.c1(x)), 2)\n",
    "        x = F.max_pool2d(F.relu(self.c2(x)), 2)\n",
    "\n",
    "        x = x.view(x.size()[0], -1)\n",
    "        x = F.relu(self.l1(x))\n",
    "        x = F.relu(self.l2(x))\n",
    "\n",
    "        x = self.l3(x)\n",
    "        return x"
   ]
  },
  {
   "cell_type": "code",
   "execution_count": 18,
   "id": "8ce6f7ba-7b60-4070-9664-8b0f7d20d6bd",
   "metadata": {
    "tags": []
   },
   "outputs": [],
   "source": [
    "def calculate_parameters(modelName, model):\n",
    "    param = sum(p.numel() for p in model.parameters())\n",
    "    print('{}: {}'.format(modelName, param))\n",
    "    return param\n",
    "\n",
    "def init_optimizer(model):\n",
    "    return optim.SGD(model.parameters(), lr=1e-2, momentum=0.9, nesterov=True)"
   ]
  },
  {
   "cell_type": "code",
   "execution_count": 19,
   "id": "5c43bd00-7349-4bfb-90ab-a46ad1ae278b",
   "metadata": {
    "tags": []
   },
   "outputs": [],
   "source": [
    "def train(model, optimizer, data):\n",
    "    model.train()\n",
    "    for batch_idx, (data, target) in enumerate(data):\n",
    "        data, target = Variable(data), Variable(target)\n",
    "        optimizer.zero_grad()\n",
    "\n",
    "        output = model(data)\n",
    "        loss_fn = torch.nn.CrossEntropyLoss()\n",
    "        loss = loss_fn(output, target)\n",
    "        loss.backward()\n",
    "        optimizer.step()"
   ]
  },
  {
   "cell_type": "code",
   "execution_count": 20,
   "id": "b82d9d36-a01f-44d3-8f5c-ba1e5c96a158",
   "metadata": {
    "tags": []
   },
   "outputs": [],
   "source": [
    "def calculate_ip_op_diff(model, loader):\n",
    "    correct = 0\n",
    "    total = 0\n",
    "    costTotal = 0\n",
    "    costCounter = 0\n",
    "    loss_fn = torch.nn.CrossEntropyLoss()\n",
    "    with torch.no_grad():\n",
    "        for batch in loader:\n",
    "            data, target = batch\n",
    "            output = model(data)\n",
    "            cost = loss_fn(output, target)\n",
    "            costTotal += cost\n",
    "            costCounter += 1\n",
    "            for i, outputTensor in enumerate(output):\n",
    "                if torch.argmax(outputTensor) == target[i]:\n",
    "                    correct += 1\n",
    "                total += 1\n",
    "    return costTotal / costCounter, round(correct/total, 3)"
   ]
  },
  {
   "cell_type": "code",
   "execution_count": 21,
   "id": "6aec5c2a-20f9-487d-98e1-cc8c6426d57e",
   "metadata": {
    "tags": []
   },
   "outputs": [],
   "source": [
    "epochs=28\n",
    "\n",
    "def train_models(model, optimizer, train_data, test_data):\n",
    "    param_arr = []\n",
    "    train_loss_arr = []\n",
    "    test_loss_arr = []\n",
    "    train_accuracy_arr = []\n",
    "    test_accuracy_arr = []\n",
    "    total_train_loss = 0\n",
    "    print('Training model ')\n",
    "    for epoch in range(1, epochs + 1):\n",
    "        train(model, optimizer, train_data)\n",
    "        train_loss, train_acc = calculate_ip_op_diff(model, train_data)\n",
    "        test_loss, test_acc = calculate_ip_op_diff(model, test_data)\n",
    "\n",
    "        train_loss_arr.append(train_loss)\n",
    "        test_loss_arr.append(test_loss)\n",
    "        train_accuracy_arr.append(train_acc)\n",
    "        test_accuracy_arr.append(test_acc)\n",
    "#         param_arr.append(calculate_parameters('Model params',  model))\n",
    "        print('test loss - ', test_loss, ' epoch - ', epoch)\n",
    "    print('Training completed..')\n",
    "    return train_loss_arr, test_loss_arr, train_accuracy_arr, test_accuracy_arr, param_arr"
   ]
  },
  {
   "cell_type": "code",
   "execution_count": 22,
   "id": "892690ce-2331-4eb5-858b-5faea935abed",
   "metadata": {
    "tags": []
   },
   "outputs": [
    {
     "name": "stdout",
     "output_type": "stream",
     "text": [
      "Training model \n",
      "test loss -  tensor(0.0931)  epoch -  1\n",
      "test loss -  tensor(0.0520)  epoch -  2\n",
      "test loss -  tensor(0.0713)  epoch -  3\n",
      "test loss -  tensor(0.0395)  epoch -  4\n",
      "test loss -  tensor(0.0391)  epoch -  5\n",
      "test loss -  tensor(0.0279)  epoch -  6\n",
      "test loss -  tensor(0.0283)  epoch -  7\n",
      "test loss -  tensor(0.0344)  epoch -  8\n",
      "test loss -  tensor(0.0299)  epoch -  9\n",
      "test loss -  tensor(0.0310)  epoch -  10\n",
      "test loss -  tensor(0.0287)  epoch -  11\n",
      "test loss -  tensor(0.0282)  epoch -  12\n",
      "test loss -  tensor(0.0330)  epoch -  13\n",
      "test loss -  tensor(0.0295)  epoch -  14\n",
      "test loss -  tensor(0.0285)  epoch -  15\n",
      "test loss -  tensor(0.0436)  epoch -  16\n",
      "test loss -  tensor(0.0333)  epoch -  17\n",
      "test loss -  tensor(0.0353)  epoch -  18\n",
      "test loss -  tensor(0.0455)  epoch -  19\n",
      "test loss -  tensor(0.0306)  epoch -  20\n",
      "test loss -  tensor(0.0312)  epoch -  21\n",
      "test loss -  tensor(0.0318)  epoch -  22\n",
      "test loss -  tensor(0.0374)  epoch -  23\n",
      "test loss -  tensor(0.0320)  epoch -  24\n",
      "test loss -  tensor(0.0348)  epoch -  25\n",
      "test loss -  tensor(0.0394)  epoch -  26\n",
      "test loss -  tensor(0.0430)  epoch -  27\n",
      "test loss -  tensor(0.0369)  epoch -  28\n",
      "Training completed..\n"
     ]
    }
   ],
   "source": [
    "train_data, test_data = data_loader(65, 70)\n",
    "\n",
    "model_1 = Model()\n",
    "optimizer = init_optimizer(model_1)\n",
    "train_loss_arr_b1, test_loss_arr_b1, train_accuracy_arr_b1, test_accuracy_arr_b1, param_arr_b1 = train_models(model_1, optimizer, train_data, test_data)"
   ]
  },
  {
   "cell_type": "code",
   "execution_count": 23,
   "id": "68831c6e-4dce-422b-8673-e0b069ccd0e0",
   "metadata": {
    "tags": []
   },
   "outputs": [
    {
     "name": "stdout",
     "output_type": "stream",
     "text": [
      "Training model \n",
      "test loss -  tensor(2.2611)  epoch -  1\n",
      "test loss -  tensor(0.3577)  epoch -  2\n",
      "test loss -  tensor(0.1608)  epoch -  3\n",
      "test loss -  tensor(0.1011)  epoch -  4\n",
      "test loss -  tensor(0.0913)  epoch -  5\n",
      "test loss -  tensor(0.0705)  epoch -  6\n",
      "test loss -  tensor(0.0693)  epoch -  7\n",
      "test loss -  tensor(0.0637)  epoch -  8\n",
      "test loss -  tensor(0.0574)  epoch -  9\n",
      "test loss -  tensor(0.0542)  epoch -  10\n",
      "test loss -  tensor(0.0580)  epoch -  11\n",
      "test loss -  tensor(0.0557)  epoch -  12\n",
      "test loss -  tensor(0.0579)  epoch -  13\n",
      "test loss -  tensor(0.0441)  epoch -  14\n",
      "test loss -  tensor(0.0396)  epoch -  15\n",
      "test loss -  tensor(0.0370)  epoch -  16\n",
      "test loss -  tensor(0.0400)  epoch -  17\n",
      "test loss -  tensor(0.0356)  epoch -  18\n",
      "test loss -  tensor(0.0433)  epoch -  19\n",
      "test loss -  tensor(0.0354)  epoch -  20\n",
      "test loss -  tensor(0.0364)  epoch -  21\n",
      "test loss -  tensor(0.0352)  epoch -  22\n",
      "test loss -  tensor(0.0352)  epoch -  23\n",
      "test loss -  tensor(0.0339)  epoch -  24\n",
      "test loss -  tensor(0.0386)  epoch -  25\n",
      "test loss -  tensor(0.0422)  epoch -  26\n",
      "test loss -  tensor(0.0381)  epoch -  27\n",
      "test loss -  tensor(0.0442)  epoch -  28\n",
      "Training completed..\n"
     ]
    }
   ],
   "source": [
    "train_data, test_data = data_loader(450, 450)\n",
    "\n",
    "model_2 = Model()\n",
    "optimizer = init_optimizer(model_2)\n",
    "train_loss_arr_b2, test_loss_arr_b2, train_accuracy_arr_b2, test_accuracy_arr_b2, param_arr_b2 = train_models(model_2, optimizer, train_data, test_data)"
   ]
  },
  {
   "cell_type": "code",
   "execution_count": 24,
   "id": "01e8e8b3-6f97-4d9e-bcc4-bf4e9daefd64",
   "metadata": {
    "tags": []
   },
   "outputs": [],
   "source": [
    "param_b1 = torch.nn.utils.parameters_to_vector(model_1.parameters())\n",
    "param_b2 = torch.nn.utils.parameters_to_vector(model_2.parameters())"
   ]
  },
  {
   "cell_type": "code",
   "execution_count": 30,
   "id": "eebb5d98-84b1-435d-ad79-04d78cea6f09",
   "metadata": {
    "tags": []
   },
   "outputs": [
    {
     "data": {
      "image/png": "[encoded data removed]",
      "text/plain": [
       "<Figure size 1200x600 with 1 Axes>"
      ]
     },
     "metadata": {},
     "output_type": "display_data"
    }
   ],
   "source": [
    "plt.figure(figsize=(12,6))\n",
    "plt.plot(np.arange(0, 28, 1), train_loss_arr_b1, color = \"orange\")\n",
    "plt.plot(np.arange(0, 28, 1), train_loss_arr_b2, color = \"purple\")\n",
    "plt.title('Model Loss Comparision')\n",
    "plt.legend(['Batch size = 70', 'Batch size = 450'])\n",
    "plt.xlabel('Epoch')\n",
    "plt.ylabel('Loss')\n",
    "plt.show()"
   ]
  },
  {
   "cell_type": "code",
   "execution_count": 31,
   "id": "523736a8-7ffc-4fdb-a80d-6c0f40680b5e",
   "metadata": {
    "tags": []
   },
   "outputs": [],
   "source": [
    "def data_loader(train_batch_size, test_batch_size):\n",
    "    train_data = torch.utils.data.DataLoader(\n",
    "        datasets.MNIST('data', train = True, download=True,\n",
    "                       transform=transforms.Compose([\n",
    "                           transforms.Resize((32, 32)),\n",
    "                           transforms.ToTensor()\n",
    "                       ])),\n",
    "        batch_size = train_batch_size, shuffle=True)\n",
    "\n",
    "    test_data = torch.utils.data.DataLoader(\n",
    "        datasets.MNIST('data', train = False, transform=transforms.Compose([\n",
    "            transforms.Resize((32, 32)),\n",
    "            transforms.ToTensor()\n",
    "        ])),\n",
    "        batch_size = test_batch_size, shuffle=True)\n",
    "\n",
    "    return (train_data, test_data)"
   ]
  },
  {
   "cell_type": "code",
   "execution_count": 32,
   "id": "a6bcf532-8756-4131-9fe6-93701f76bc53",
   "metadata": {
    "tags": []
   },
   "outputs": [],
   "source": [
    "class Model(nn.Module):\n",
    "    def __init__(self):\n",
    "        super(Model, self).__init__()\n",
    "        \n",
    "        self.c1 = nn.Conv2d(1, 6, 5)\n",
    "        self.c2 = nn.Conv2d(6, 16, 5)\n",
    "        self.l1 = nn.Linear(16 * 5 * 5, 120)\n",
    "        self.l2 = nn.Linear(120, 84)\n",
    "        self.l3 = nn.Linear(84, 10)\n",
    "\n",
    "    def forward(self, x):\n",
    "        x = F.max_pool2d(F.relu(self.c1(x)), 2)\n",
    "        x = F.max_pool2d(F.relu(self.c2(x)), 2)\n",
    "\n",
    "        x = x.view(x.size()[0], -1)\n",
    "        x = F.relu(self.l1(x))\n",
    "        x = F.relu(self.l2(x))\n",
    "\n",
    "        x = self.l3(x)\n",
    "        return x"
   ]
  },
  {
   "cell_type": "code",
   "execution_count": 33,
   "id": "cf698109-6bd9-4b3d-a830-55fcc7d698c4",
   "metadata": {
    "tags": []
   },
   "outputs": [],
   "source": [
    "def calculate_parameters(modelName, model):\n",
    "    param = sum(p.numel() for p in model.parameters())\n",
    "    print('{}: {}'.format(modelName, param))\n",
    "    return param"
   ]
  },
  {
   "cell_type": "code",
   "execution_count": 34,
   "id": "8998c27e-9332-459a-a82f-b6d75202665a",
   "metadata": {
    "tags": []
   },
   "outputs": [],
   "source": [
    "\n",
    "def init_optimizer(model):\n",
    "    return optim.SGD(model.parameters(), lr=1e-3, momentum=0.9, nesterov=True)"
   ]
  },
  {
   "cell_type": "code",
   "execution_count": 35,
   "id": "f5a64274-463c-44a5-9d87-d51446cb6505",
   "metadata": {
    "tags": []
   },
   "outputs": [],
   "source": [
    "def train(model, optimizer, data):\n",
    "    model.train()\n",
    "    for batch_idx, (data, target) in enumerate(data):\n",
    "        data, target = Variable(data), Variable(target)\n",
    "        optimizer.zero_grad()\n",
    "\n",
    "        output = model(data)\n",
    "        loss_fn = torch.nn.CrossEntropyLoss()\n",
    "        loss = loss_fn(output, target)\n",
    "        loss.backward()\n",
    "        optimizer.step()"
   ]
  },
  {
   "cell_type": "code",
   "execution_count": 36,
   "id": "9914112d-2f9d-4966-ad36-6c856cfc4a39",
   "metadata": {
    "tags": []
   },
   "outputs": [],
   "source": [
    "def calculate_ip_op_diff(model, loader):\n",
    "    correct = 0\n",
    "    total = 0\n",
    "    costTotal = 0\n",
    "    costCounter = 0\n",
    "    loss_fn = torch.nn.CrossEntropyLoss()\n",
    "    with torch.no_grad():\n",
    "        for batch in loader:\n",
    "            data, target = batch\n",
    "            output = model(data)\n",
    "            cost = loss_fn(output, target)\n",
    "            costTotal += cost\n",
    "            costCounter += 1\n",
    "            for i, outputTensor in enumerate(output):\n",
    "                if torch.argmax(outputTensor) == target[i]:\n",
    "                    correct += 1\n",
    "                total += 1\n",
    "    return costTotal / costCounter, round(correct/total, 3)"
   ]
  },
  {
   "cell_type": "code",
   "execution_count": 37,
   "id": "57f39682-c740-4254-ab42-f53f7eb9b23b",
   "metadata": {
    "tags": []
   },
   "outputs": [],
   "source": [
    "epochs=28\n",
    "\n",
    "def train_models(model, optimizer, train_data, test_data):\n",
    "    param_arr = []\n",
    "    train_loss_arr = []\n",
    "    test_loss_arr = []\n",
    "    train_accuracy_arr = []\n",
    "    test_accuracy_arr = []\n",
    "    total_train_loss = 0\n",
    "    print('Training model ')\n",
    "    for epoch in range(1, epochs + 1):\n",
    "        train(model, optimizer, train_data)\n",
    "        train_loss, train_acc = calculate_ip_op_diff(model, train_data)\n",
    "        test_loss, test_acc = calculate_ip_op_diff(model, test_data)\n",
    "\n",
    "        train_loss_arr.append(train_loss)\n",
    "        test_loss_arr.append(test_loss)\n",
    "        train_accuracy_arr.append(train_acc)\n",
    "        test_accuracy_arr.append(test_acc)\n",
    "#         param_arr.append(calculate_parameters('Model params',  model))\n",
    "        print('test loss - ', test_loss, ' epoch - ', epoch)\n",
    "    print('Training completed..')\n",
    "    return train_loss_arr, test_loss_arr, train_accuracy_arr, test_accuracy_arr, param_arr"
   ]
  },
  {
   "cell_type": "code",
   "execution_count": 39,
   "id": "aa2f4459-ff5e-4d85-85d4-f72d8a332ce9",
   "metadata": {
    "tags": []
   },
   "outputs": [
    {
     "name": "stdout",
     "output_type": "stream",
     "text": [
      "Training model \n",
      "test loss -  tensor(2.2871)  epoch -  1\n",
      "test loss -  tensor(0.4492)  epoch -  2\n",
      "test loss -  tensor(0.2219)  epoch -  3\n",
      "test loss -  tensor(0.1403)  epoch -  4\n",
      "test loss -  tensor(0.1059)  epoch -  5\n",
      "test loss -  tensor(0.1093)  epoch -  6\n",
      "test loss -  tensor(0.0845)  epoch -  7\n",
      "test loss -  tensor(0.0727)  epoch -  8\n",
      "test loss -  tensor(0.0688)  epoch -  9\n",
      "test loss -  tensor(0.0721)  epoch -  10\n",
      "test loss -  tensor(0.0600)  epoch -  11\n",
      "test loss -  tensor(0.0586)  epoch -  12\n",
      "test loss -  tensor(0.0518)  epoch -  13\n",
      "test loss -  tensor(0.0498)  epoch -  14\n",
      "test loss -  tensor(0.0527)  epoch -  15\n",
      "test loss -  tensor(0.0509)  epoch -  16\n",
      "test loss -  tensor(0.0501)  epoch -  17\n",
      "test loss -  tensor(0.0519)  epoch -  18\n",
      "test loss -  tensor(0.0491)  epoch -  19\n",
      "test loss -  tensor(0.0537)  epoch -  20\n",
      "test loss -  tensor(0.0535)  epoch -  21\n",
      "test loss -  tensor(0.0450)  epoch -  22\n",
      "test loss -  tensor(0.0453)  epoch -  23\n",
      "test loss -  tensor(0.0397)  epoch -  24\n",
      "test loss -  tensor(0.0430)  epoch -  25\n",
      "test loss -  tensor(0.0448)  epoch -  26\n",
      "test loss -  tensor(0.1354)  epoch -  27\n",
      "test loss -  tensor(0.0426)  epoch -  28\n",
      "Training completed..\n"
     ]
    }
   ],
   "source": [
    "train_data, test_data = data_loader(65, 65)\n",
    "\n",
    "model_1 = Model()\n",
    "optimizer = init_optimizer(model_1)\n",
    "train_loss_arr_b1, test_loss_arr_b1, train_accuracy_arr_b1, test_accuracy_arr_b1, param_arr_b1 = train_models(model_1, optimizer, train_data, test_data)"
   ]
  },
  {
   "cell_type": "code",
   "execution_count": 40,
   "id": "3b9f9563-a1fb-4fd7-89d3-925a4a30d17d",
   "metadata": {
    "tags": []
   },
   "outputs": [
    {
     "name": "stdout",
     "output_type": "stream",
     "text": [
      "Training model \n",
      "test loss -  tensor(2.2961)  epoch -  1\n",
      "test loss -  tensor(2.2853)  epoch -  2\n",
      "test loss -  tensor(2.2629)  epoch -  3\n",
      "test loss -  tensor(2.1781)  epoch -  4\n",
      "test loss -  tensor(1.5672)  epoch -  5\n",
      "test loss -  tensor(0.6786)  epoch -  6\n",
      "test loss -  tensor(0.4890)  epoch -  7\n",
      "test loss -  tensor(0.4109)  epoch -  8\n",
      "test loss -  tensor(0.3651)  epoch -  9\n",
      "test loss -  tensor(0.3255)  epoch -  10\n",
      "test loss -  tensor(0.2945)  epoch -  11\n",
      "test loss -  tensor(0.2652)  epoch -  12\n",
      "test loss -  tensor(0.2456)  epoch -  13\n",
      "test loss -  tensor(0.2272)  epoch -  14\n",
      "test loss -  tensor(0.2080)  epoch -  15\n",
      "test loss -  tensor(0.1921)  epoch -  16\n",
      "test loss -  tensor(0.1795)  epoch -  17\n",
      "test loss -  tensor(0.1723)  epoch -  18\n",
      "test loss -  tensor(0.1599)  epoch -  19\n",
      "test loss -  tensor(0.1488)  epoch -  20\n",
      "test loss -  tensor(0.1367)  epoch -  21\n",
      "test loss -  tensor(0.1364)  epoch -  22\n",
      "test loss -  tensor(0.1333)  epoch -  23\n",
      "test loss -  tensor(0.1208)  epoch -  24\n",
      "test loss -  tensor(0.1131)  epoch -  25\n",
      "test loss -  tensor(0.1095)  epoch -  26\n",
      "test loss -  tensor(0.1043)  epoch -  27\n",
      "test loss -  tensor(0.1056)  epoch -  28\n",
      "Training completed..\n"
     ]
    }
   ],
   "source": [
    "train_data, test_data = data_loader(450, 450)\n",
    "\n",
    "model_2 = Model()\n",
    "optimizer = init_optimizer(model_2)\n",
    "train_loss_arr_b2, test_loss_arr_b2, train_accuracy_arr_b2, test_accuracy_arr_b2, param_arr_b2 = train_models(model_2, optimizer, train_data, test_data)"
   ]
  },
  {
   "cell_type": "code",
   "execution_count": 41,
   "id": "3346878b-2a6a-4c9b-870a-85d21c53f1c7",
   "metadata": {
    "tags": []
   },
   "outputs": [],
   "source": [
    "param_b1 = torch.nn.utils.parameters_to_vector(model_1.parameters())\n",
    "param_b2 = torch.nn.utils.parameters_to_vector(model_2.parameters())"
   ]
  },
  {
   "cell_type": "code",
   "execution_count": 42,
   "id": "c3dd7074-247a-4408-9652-11b358ad0e1b",
   "metadata": {
    "tags": []
   },
   "outputs": [
    {
     "data": {
      "image/png": "[encoded data removed]",
      "text/plain": [
       "<Figure size 1200x600 with 1 Axes>"
      ]
     },
     "metadata": {},
     "output_type": "display_data"
    }
   ],
   "source": [
    "plt.figure(figsize=(12,6))\n",
    "plt.plot(np.arange(0, 28, 1), train_loss_arr_b1, color = \"orange\")\n",
    "plt.plot(np.arange(0, 28, 1), train_loss_arr_b2, color = \"purple\")\n",
    "plt.title('Model Loss Comparision')\n",
    "plt.legend(['Batch size = 75', 'Batch size = 500'])\n",
    "plt.xlabel('Epoch')\n",
    "plt.ylabel('Loss')\n",
    "plt.show()"
   ]
  },
  {
   "cell_type": "code",
   "execution_count": 43,
   "id": "0dafdb77-5311-459f-8588-db6514dd1fe8",
   "metadata": {
    "tags": []
   },
   "outputs": [
    {
     "data": {
      "image/png": "[encoded data removed]",
      "text/plain": [
       "<Figure size 1200x600 with 1 Axes>"
      ]
     },
     "metadata": {},
     "output_type": "display_data"
    }
   ],
   "source": [
    "plt.figure(figsize=(12,6))\n",
    "plt.plot(np.arange(0, 28, 1), test_accuracy_arr_b1, color = \"orange\")\n",
    "plt.plot(np.arange(0, 28, 1), test_accuracy_arr_b2, color = \"purple\")\n",
    "plt.title('Model Accuracy Comparision')\n",
    "plt.legend(['Batch size = 75', 'Batch size = 500'])\n",
    "plt.xlabel('Epoch')\n",
    "plt.ylabel('Loss')\n",
    "plt.show()"
   ]
  },
  {
   "cell_type": "code",
   "execution_count": 44,
   "id": "2a455975-21a4-4d88-9a9e-9de41580f2d1",
   "metadata": {
    "tags": []
   },
   "outputs": [],
   "source": [
    "alpha = np.arange(-2, 2, 0.2)\n",
    "thetaArr =[]\n",
    "for i in range (len(alpha)):\n",
    "    theta = (1-alpha[i])*param_b1 + alpha[i]* param_b2\n",
    "    thetaArr.append(theta)"
   ]
  },
  {
   "cell_type": "code",
   "execution_count": 45,
   "id": "df91a64c-57d4-4d3a-b764-08e3fd270c15",
   "metadata": {
    "tags": []
   },
   "outputs": [
    {
     "name": "stdout",
     "output_type": "stream",
     "text": [
      "Running for theta -  0\n",
      "Alpha loss -  tensor(26.6044)\n",
      "Running for theta -  1\n",
      "Alpha loss -  tensor(16.6871)\n",
      "Running for theta -  2\n",
      "Alpha loss -  tensor(10.5195)\n",
      "Running for theta -  3\n",
      "Alpha loss -  tensor(6.4280)\n",
      "Running for theta -  4\n",
      "Alpha loss -  tensor(3.5838)\n",
      "Running for theta -  5\n",
      "Alpha loss -  tensor(2.0926)\n",
      "Running for theta -  6\n",
      "Alpha loss -  tensor(0.9685)\n",
      "Running for theta -  7\n",
      "Alpha loss -  tensor(0.4443)\n",
      "Running for theta -  8\n",
      "Alpha loss -  tensor(0.1892)\n",
      "Running for theta -  9\n",
      "Alpha loss -  tensor(0.0803)\n",
      "Running for theta -  10\n",
      "Alpha loss -  tensor(0.0434)\n",
      "Running for theta -  11\n",
      "Alpha loss -  tensor(0.1628)\n",
      "Running for theta -  12\n",
      "Alpha loss -  tensor(1.1082)\n",
      "Running for theta -  13\n",
      "Alpha loss -  tensor(1.4664)\n",
      "Running for theta -  14\n",
      "Alpha loss -  tensor(0.4594)\n",
      "Running for theta -  15\n",
      "Alpha loss -  tensor(0.1116)\n",
      "Running for theta -  16\n",
      "Alpha loss -  tensor(0.1672)\n",
      "Running for theta -  17\n",
      "Alpha loss -  tensor(0.6060)\n",
      "Running for theta -  18\n",
      "Alpha loss -  tensor(2.2299)\n",
      "Running for theta -  19\n",
      "Alpha loss -  tensor(6.8113)\n"
     ]
    }
   ],
   "source": [
    "alpha_train_loss_arr = []\n",
    "alpha_test_loss_arr = []\n",
    "alpha_train_acc_arr = []\n",
    "alpha_test_acc_arr = []\n",
    "\n",
    "for i in range (len(thetaArr)):\n",
    "#     torch.manual_seed(1)\n",
    "    print('Running for theta - ' , i)\n",
    "    theta = (1-alpha[i])* param_b1 + alpha[i]*param_b2\n",
    "    model = Model()\n",
    "    torch.nn.utils.vector_to_parameters(theta, model.parameters())\n",
    "    loss_func = nn.CrossEntropyLoss()\n",
    "\n",
    "    temp = []\n",
    "    for param in model.parameters():\n",
    "        temp.append(torch.numel(param))\n",
    "\n",
    "    alpha_train_loss, alpha_train_acc = calculate_ip_op_diff(model, train_data)\n",
    "    alpha_test_loss, alpha_test_acc = calculate_ip_op_diff(model, test_data)\n",
    "    print('Alpha loss - ' , alpha_test_loss)\n",
    "    alpha_train_loss_arr.append(alpha_train_loss)\n",
    "    alpha_train_acc_arr.append(alpha_train_acc)\n",
    "    alpha_test_loss_arr.append(alpha_test_loss)\n",
    "    alpha_test_acc_arr.append(alpha_test_acc)"
   ]
  },
  {
   "cell_type": "code",
   "execution_count": 46,
   "id": "8edd3285-f266-4be8-90e2-deb36cf3ba46",
   "metadata": {
    "tags": []
   },
   "outputs": [
    {
     "data": {
      "text/plain": [
       "Text(0, 0.5, 'Loss')"
      ]
     },
     "execution_count": 46,
     "metadata": {},
     "output_type": "execute_result"
    },
    {
     "data": {
      "image/png": "[encoded data removed]",
      "text/plain": [
       "<Figure size 1200x800 with 1 Axes>"
      ]
     },
     "metadata": {},
     "output_type": "display_data"
    }
   ],
   "source": [
    "plt.figure(figsize=(12,8))\n",
    "plt.plot(alpha, alpha_train_loss_arr, color = \"orange\")\n",
    "plt.plot(alpha, alpha_test_loss_arr, color = \"purple\")\n",
    "# plt.legend(loc='upper left')\n",
    "plt.legend(['Train Loss' , 'Test Loss'])\n",
    "plt.xlabel('Interpolation ratio')\n",
    "plt.ylabel('Loss')"
   ]
  },
  {
   "cell_type": "code",
   "execution_count": 47,
   "id": "cada18e8-cabb-4f6a-aadd-b0a499e5ffa4",
   "metadata": {
    "tags": []
   },
   "outputs": [
    {
     "data": {
      "text/plain": [
       "Text(0, 0.5, 'Accuracy')"
      ]
     },
     "execution_count": 47,
     "metadata": {},
     "output_type": "execute_result"
    },
    {
     "data": {
      "image/png": "[encoded data removed]",
      "text/plain": [
       "<Figure size 640x480 with 1 Axes>"
      ]
     },
     "metadata": {},
     "output_type": "display_data"
    }
   ],
   "source": [
    "plt.plot(alpha, alpha_train_acc_arr, dashes=[30, 5, 10, 5], color = \"orange\")\n",
    "plt.plot(alpha, alpha_test_acc_arr, color = \"purple\")\n",
    "plt.legend(['Train Accuracy' , 'Test Accuracy'])\n",
    "plt.xlabel('Interpolation ratio')\n",
    "plt.ylabel('Accuracy')"
   ]
  },
  {
   "cell_type": "code",
   "execution_count": 48,
   "id": "c0944360-e077-422c-8082-98dfb8796596",
   "metadata": {
    "tags": []
   },
   "outputs": [],
   "source": [
    "def data_loader(train_batch_size, test_batch_size):\n",
    "    train_data = torch.utils.data.DataLoader(\n",
    "        datasets.MNIST('data', train = True, download=True,\n",
    "                       transform=transforms.Compose([\n",
    "                           transforms.Resize((32, 32)),\n",
    "                           transforms.ToTensor()\n",
    "                       ])),\n",
    "        batch_size = train_batch_size, shuffle=True)\n",
    "\n",
    "    test_data = torch.utils.data.DataLoader(\n",
    "        datasets.MNIST('data', train = False, transform=transforms.Compose([\n",
    "            transforms.Resize((32, 32)),\n",
    "            transforms.ToTensor()\n",
    "        ])),\n",
    "        batch_size = test_batch_size, shuffle=True)\n",
    "\n",
    "    return (train_data, test_data)"
   ]
  },
  {
   "cell_type": "code",
   "execution_count": 49,
   "id": "83e5f96b-db18-4c21-b69e-fe8319ec6480",
   "metadata": {
    "tags": []
   },
   "outputs": [],
   "source": [
    "class Model(nn.Module):\n",
    "    def __init__(self):\n",
    "        super(Model, self).__init__()\n",
    "        \n",
    "        self.conv1 = nn.Conv2d(1, 6, 5)\n",
    "        self.conv2 = nn.Conv2d(6, 16, 5)\n",
    "        self.linear1 = nn.Linear(16 * 5 * 5, 120)\n",
    "        self.linear2 = nn.Linear(120, 84)\n",
    "        self.linear3 = nn.Linear(84, 10)\n",
    "\n",
    "    def forward(self, x):\n",
    "        x = F.max_pool2d(F.relu(self.conv1(x)), 2)\n",
    "        x = F.max_pool2d(F.relu(self.conv2(x)), 2)\n",
    "\n",
    "        x = x.view(x.size()[0], -1)\n",
    "        x = F.relu(self.linear1(x))\n",
    "        x = F.relu(self.linear2(x))\n",
    "\n",
    "        x = self.linear3(x)\n",
    "        return x"
   ]
  },
  {
   "cell_type": "code",
   "execution_count": 50,
   "id": "ec977b91-a6a8-480b-ab88-48dd53116b9e",
   "metadata": {
    "tags": []
   },
   "outputs": [],
   "source": [
    "def sensitivity(model):\n",
    "    fNormTotal = 0\n",
    "    counter = 0\n",
    "    for p in model.parameters():\n",
    "        grad = 0.0\n",
    "        if p.grad is not None:\n",
    "            grad = p.grad\n",
    "            fNorm = torch.linalg.norm(grad).numpy()\n",
    "            fNormTotal += fNorm\n",
    "            counter += 1\n",
    "    return fNormTotal / counter"
   ]
  },
  {
   "cell_type": "code",
   "execution_count": 51,
   "id": "264a77d2-23b5-484b-bf9d-fe744a111108",
   "metadata": {
    "tags": []
   },
   "outputs": [],
   "source": [
    "def init_optimizer(model):\n",
    "    return optim.SGD(model.parameters(), lr=1e-2)"
   ]
  },
  {
   "cell_type": "code",
   "execution_count": 52,
   "id": "7d1c72c8-09a7-429b-aa1a-2e1bb89db370",
   "metadata": {
    "tags": []
   },
   "outputs": [],
   "source": [
    "def train(model, optimizer, data):\n",
    "    model.train()\n",
    "    for batch_idx, (data, target) in enumerate(data):\n",
    "        data, target = Variable(data), Variable(target)\n",
    "        optimizer.zero_grad()\n",
    "\n",
    "        output = model(data)\n",
    "        loss_fn = torch.nn.CrossEntropyLoss()\n",
    "        loss = loss_fn(output, target)\n",
    "        loss.backward()\n",
    "        optimizer.step()"
   ]
  },
  {
   "cell_type": "code",
   "execution_count": 53,
   "id": "4d01f8d8-8abf-4980-9696-cd44166e09b8",
   "metadata": {
    "tags": []
   },
   "outputs": [],
   "source": [
    "def calculate_op_diff(model, loader):\n",
    "    correct = 0\n",
    "    total = 0\n",
    "    costTotal = 0\n",
    "    costCounter = 0\n",
    "    loss_fn = torch.nn.CrossEntropyLoss()\n",
    "    with torch.no_grad():\n",
    "        for batch in loader:\n",
    "            data, target = batch\n",
    "            output = model(data)\n",
    "            cost = loss_fn(output, target)\n",
    "            costTotal += cost\n",
    "            costCounter += 1\n",
    "            for i, outputTensor in enumerate(output):\n",
    "                if torch.argmax(outputTensor) == target[i]:\n",
    "                    correct += 1\n",
    "                total += 1\n",
    "    return costTotal / costCounter, round(correct/total, 3)"
   ]
  },
  {
   "cell_type": "code",
   "execution_count": 54,
   "id": "6f8911d8-f135-4edc-bf80-be03a1b72b04",
   "metadata": {
    "tags": []
   },
   "outputs": [],
   "source": [
    "epochs=40\n",
    "param_arr = []\n",
    "train_loss_arr = []\n",
    "test_loss_arr = []\n",
    "train_accuracy_arr = []\n",
    "test_accuracy_arr = []\n",
    "\n",
    "def train_models(model, optimizer, train_data, test_data):\n",
    "    total_train_loss = 0\n",
    "    print('Training model ')\n",
    "    for epoch in range(1, epochs + 1):\n",
    "        print('Training epoch - ' , epoch)\n",
    "        train(model, optimizer, train_data)\n",
    "    train_loss, train_acc = calculate_op_diff(model, train_data)\n",
    "    test_loss, test_acc = calculate_op_diff(model, test_data)\n",
    "\n",
    "    train_loss_arr.append(train_loss)\n",
    "    test_loss_arr.append(test_loss)\n",
    "    train_accuracy_arr.append(train_acc)\n",
    "    test_accuracy_arr.append(test_acc)\n",
    "#         param_arr.append(calculate_parameters('Model params',  model))\n",
    "    print('test loss - ', test_loss, ' epoch - ', epoch)\n",
    "    print('Training completed..')\n",
    "#     return train_loss_arr, test_loss_arr, train_accuracy_arr, test_accuracy_arr, param_arr"
   ]
  },
  {
   "cell_type": "code",
   "execution_count": 55,
   "id": "f82e0c03-1d63-48cb-8b92-1ca2ad334905",
   "metadata": {
    "tags": []
   },
   "outputs": [
    {
     "name": "stdout",
     "output_type": "stream",
     "text": [
      "Training model \n",
      "Training epoch -  1\n",
      "Training epoch -  2\n",
      "Training epoch -  3\n",
      "Training epoch -  4\n",
      "Training epoch -  5\n",
      "Training epoch -  6\n",
      "Training epoch -  7\n",
      "Training epoch -  8\n",
      "Training epoch -  9\n",
      "Training epoch -  10\n",
      "Training epoch -  11\n",
      "Training epoch -  12\n",
      "Training epoch -  13\n",
      "Training epoch -  14\n",
      "Training epoch -  15\n",
      "Training epoch -  16\n",
      "Training epoch -  17\n",
      "Training epoch -  18\n",
      "Training epoch -  19\n",
      "Training epoch -  20\n",
      "Training epoch -  21\n",
      "Training epoch -  22\n",
      "Training epoch -  23\n",
      "Training epoch -  24\n",
      "Training epoch -  25\n",
      "Training epoch -  26\n",
      "Training epoch -  27\n",
      "Training epoch -  28\n",
      "Training epoch -  29\n",
      "Training epoch -  30\n",
      "Training epoch -  31\n",
      "Training epoch -  32\n",
      "Training epoch -  33\n",
      "Training epoch -  34\n",
      "Training epoch -  35\n",
      "Training epoch -  36\n",
      "Training epoch -  37\n",
      "Training epoch -  38\n",
      "Training epoch -  39\n",
      "Training epoch -  40\n",
      "test loss -  tensor(0.0434)  epoch -  40\n",
      "Training completed..\n",
      "Training model \n",
      "Training epoch -  1\n",
      "Training epoch -  2\n",
      "Training epoch -  3\n",
      "Training epoch -  4\n",
      "Training epoch -  5\n",
      "Training epoch -  6\n",
      "Training epoch -  7\n",
      "Training epoch -  8\n",
      "Training epoch -  9\n",
      "Training epoch -  10\n",
      "Training epoch -  11\n",
      "Training epoch -  12\n",
      "Training epoch -  13\n",
      "Training epoch -  14\n",
      "Training epoch -  15\n",
      "Training epoch -  16\n",
      "Training epoch -  17\n",
      "Training epoch -  18\n",
      "Training epoch -  19\n",
      "Training epoch -  20\n",
      "Training epoch -  21\n",
      "Training epoch -  22\n",
      "Training epoch -  23\n",
      "Training epoch -  24\n",
      "Training epoch -  25\n",
      "Training epoch -  26\n",
      "Training epoch -  27\n",
      "Training epoch -  28\n",
      "Training epoch -  29\n",
      "Training epoch -  30\n",
      "Training epoch -  31\n",
      "Training epoch -  32\n",
      "Training epoch -  33\n",
      "Training epoch -  34\n",
      "Training epoch -  35\n",
      "Training epoch -  36\n",
      "Training epoch -  37\n",
      "Training epoch -  38\n",
      "Training epoch -  39\n",
      "Training epoch -  40\n",
      "test loss -  tensor(0.0624)  epoch -  40\n",
      "Training completed..\n",
      "Training model \n",
      "Training epoch -  1\n",
      "Training epoch -  2\n",
      "Training epoch -  3\n",
      "Training epoch -  4\n",
      "Training epoch -  5\n",
      "Training epoch -  6\n",
      "Training epoch -  7\n",
      "Training epoch -  8\n",
      "Training epoch -  9\n",
      "Training epoch -  10\n",
      "Training epoch -  11\n",
      "Training epoch -  12\n",
      "Training epoch -  13\n",
      "Training epoch -  14\n",
      "Training epoch -  15\n",
      "Training epoch -  16\n",
      "Training epoch -  17\n",
      "Training epoch -  18\n",
      "Training epoch -  19\n",
      "Training epoch -  20\n",
      "Training epoch -  21\n",
      "Training epoch -  22\n",
      "Training epoch -  23\n",
      "Training epoch -  24\n",
      "Training epoch -  25\n",
      "Training epoch -  26\n",
      "Training epoch -  27\n",
      "Training epoch -  28\n",
      "Training epoch -  29\n",
      "Training epoch -  30\n",
      "Training epoch -  31\n",
      "Training epoch -  32\n",
      "Training epoch -  33\n",
      "Training epoch -  34\n",
      "Training epoch -  35\n",
      "Training epoch -  36\n",
      "Training epoch -  37\n",
      "Training epoch -  38\n",
      "Training epoch -  39\n",
      "Training epoch -  40\n",
      "test loss -  tensor(0.1394)  epoch -  40\n",
      "Training completed..\n",
      "Training model \n",
      "Training epoch -  1\n",
      "Training epoch -  2\n",
      "Training epoch -  3\n",
      "Training epoch -  4\n",
      "Training epoch -  5\n",
      "Training epoch -  6\n",
      "Training epoch -  7\n",
      "Training epoch -  8\n",
      "Training epoch -  9\n",
      "Training epoch -  10\n",
      "Training epoch -  11\n",
      "Training epoch -  12\n",
      "Training epoch -  13\n",
      "Training epoch -  14\n",
      "Training epoch -  15\n",
      "Training epoch -  16\n",
      "Training epoch -  17\n",
      "Training epoch -  18\n",
      "Training epoch -  19\n",
      "Training epoch -  20\n",
      "Training epoch -  21\n",
      "Training epoch -  22\n",
      "Training epoch -  23\n",
      "Training epoch -  24\n",
      "Training epoch -  25\n",
      "Training epoch -  26\n",
      "Training epoch -  27\n",
      "Training epoch -  28\n",
      "Training epoch -  29\n",
      "Training epoch -  30\n",
      "Training epoch -  31\n",
      "Training epoch -  32\n",
      "Training epoch -  33\n",
      "Training epoch -  34\n",
      "Training epoch -  35\n",
      "Training epoch -  36\n",
      "Training epoch -  37\n",
      "Training epoch -  38\n",
      "Training epoch -  39\n",
      "Training epoch -  40\n",
      "test loss -  tensor(2.1994)  epoch -  40\n",
      "Training completed..\n",
      "Training model \n",
      "Training epoch -  1\n",
      "Training epoch -  2\n",
      "Training epoch -  3\n",
      "Training epoch -  4\n",
      "Training epoch -  5\n",
      "Training epoch -  6\n",
      "Training epoch -  7\n",
      "Training epoch -  8\n",
      "Training epoch -  9\n",
      "Training epoch -  10\n",
      "Training epoch -  11\n",
      "Training epoch -  12\n",
      "Training epoch -  13\n",
      "Training epoch -  14\n",
      "Training epoch -  15\n",
      "Training epoch -  16\n",
      "Training epoch -  17\n",
      "Training epoch -  18\n",
      "Training epoch -  19\n",
      "Training epoch -  20\n",
      "Training epoch -  21\n",
      "Training epoch -  22\n",
      "Training epoch -  23\n",
      "Training epoch -  24\n",
      "Training epoch -  25\n",
      "Training epoch -  26\n",
      "Training epoch -  27\n",
      "Training epoch -  28\n",
      "Training epoch -  29\n",
      "Training epoch -  30\n",
      "Training epoch -  31\n",
      "Training epoch -  32\n",
      "Training epoch -  33\n",
      "Training epoch -  34\n",
      "Training epoch -  35\n",
      "Training epoch -  36\n",
      "Training epoch -  37\n",
      "Training epoch -  38\n",
      "Training epoch -  39\n",
      "Training epoch -  40\n",
      "test loss -  tensor(2.3014)  epoch -  40\n",
      "Training completed..\n"
     ]
    }
   ],
   "source": [
    "batch_arr = [150, 250, 750, 4000, 8000]\n",
    "sensitivity_arr= []\n",
    "for batch in batch_arr:\n",
    "    train_data, test_data = data_loader(batch, batch)\n",
    "    model = Model()\n",
    "    optimizer = init_optimizer(model)\n",
    "    train_models(model, optimizer, train_data, test_data)\n",
    "    sensitivity_arr.append(sensitivity(model))"
   ]
  },
  {
   "cell_type": "code",
   "execution_count": 56,
   "id": "e9de33d3-fc63-43a1-a548-7691916eec01",
   "metadata": {
    "tags": []
   },
   "outputs": [
    {
     "data": {
      "image/png": "[encoded data removed]",
      "text/plain": [
       "<Figure size 1200x600 with 2 Axes>"
      ]
     },
     "metadata": {},
     "output_type": "display_data"
    }
   ],
   "source": [
    "plt.figure(figsize=(12,6))\n",
    "plt.plot(batch_arr, train_loss_arr, color = \"orange\")\n",
    "plt.plot(batch_arr, test_loss_arr, color = \"purple\")\n",
    "plt.xlabel('Batch size')\n",
    "plt.ylabel('Loss')\n",
    "plt.legend(['Train Loss', 'Test Loss'])\n",
    "\n",
    "ax2 = plt.twinx()\n",
    "\n",
    "plt.plot(batch_arr, sensitivity_arr, color = \"grey\")\n",
    "plt.title('Model Loss Comparision')\n",
    "plt.legend(['Sensitivity'])\n",
    "plt.ylabel('Sensitivity')\n",
    "plt.show()"
   ]
  },
  {
   "cell_type": "code",
   "execution_count": 57,
   "id": "8ba4dff6-b2ad-41c0-b0e1-4eed2014280c",
   "metadata": {
    "tags": []
   },
   "outputs": [
    {
     "data": {
      "image/png": "[encoded data removed]",
      "text/plain": [
       "<Figure size 1200x600 with 2 Axes>"
      ]
     },
     "metadata": {},
     "output_type": "display_data"
    }
   ],
   "source": [
    "plt.figure(figsize=(12,6))\n",
    "plt.plot(batch_arr, train_accuracy_arr, color = \"orange\")\n",
    "plt.plot(batch_arr, test_accuracy_arr, color = \"purple\")\n",
    "plt.xlabel('Batch size')\n",
    "plt.ylabel('Accuracy')\n",
    "plt.legend(['Train Accuracy', 'Test Accuracy'])\n",
    "\n",
    "ax2 = plt.twinx()\n",
    "\n",
    "plt.plot(batch_arr, sensitivity_arr, color = \"grey\")\n",
    "plt.title('Model Accuracy Comparision')\n",
    "plt.legend(['Train Accuracy', 'Test Accuracy', 'Sensitivity'])\n",
    "plt.ylabel('Sensitivity')\n",
    "plt.show()"
   ]
  },
  {
   "cell_type": "code",
   "execution_count": 58,
   "id": "c68d2200-efc1-4ce4-bc1a-497053aa7114",
   "metadata": {
    "tags": []
   },
   "outputs": [],
   "source": [
    "def load_data(train_size, test_size):\n",
    "        trainset = datasets.MNIST('data', train = True, download = False, \n",
    "                transform = transforms.Compose([\n",
    "                transforms.ToTensor(),\n",
    "                transforms.Normalize((0.1307,), (0.3081,))\n",
    "                ]))\n",
    "        train_data = torch.utils.data.DataLoader(trainset, batch_size=train_size, shuffle=True)\n",
    "        \n",
    "        testset = datasets.MNIST('data', train = False, download = False, \n",
    "                transform = transforms.Compose([\n",
    "                transforms.ToTensor(),\n",
    "                transforms.Normalize((0.1307,), (0.3081,))\n",
    "                ]))\n",
    "        test_data =  torch.utils.data.DataLoader(testset, batch_size=test_size, shuffle=True)\n",
    "        \n",
    "        return (train_data, test_data)"
   ]
  },
  {
   "cell_type": "code",
   "execution_count": 59,
   "id": "975bd869-bd28-4cdd-9d01-71a2c7cd13ad",
   "metadata": {
    "tags": []
   },
   "outputs": [],
   "source": [
    "class Model_1 (nn.Module):\n",
    "    def __init__(self):\n",
    "        super().__init__()\n",
    "        self.linear1 = nn.Linear(784, 5)\n",
    "        self.linear2 = nn.Linear(5, 9)\n",
    "        self.linear3 = nn.Linear(9, 10)\n",
    "\n",
    "    def forward(self, x):\n",
    "        x = F.relu(self.linear1(x))\n",
    "        x = F.relu(self.linear2(x))\n",
    "        x = self.linear3(x)\n",
    "        return x\n",
    "\n",
    "class Model_2 (nn.Module):\n",
    "    def __init__(self):\n",
    "        super().__init__()\n",
    "        self.linear1 = nn.Linear(784, 25)\n",
    "        self.linear2 = nn.Linear(25, 8)\n",
    "        self.linear3 = nn.Linear(8, 10)\n",
    "\n",
    "    def forward(self, x):\n",
    "        x = F.relu(self.linear1(x))\n",
    "        x = F.relu(self.linear2(x))\n",
    "        x = self.linear3(x)\n",
    "        return x\n",
    "    \n",
    "class Model_3 (nn.Module):\n",
    "    def __init__(self):\n",
    "        super().__init__()\n",
    "        self.linear1 = nn.Linear(784, 45)\n",
    "        self.linear2 = nn.Linear(45, 8)\n",
    "        self.linear3 = nn.Linear(8, 10)\n",
    "\n",
    "    def forward(self, x):\n",
    "        x = F.relu(self.linear1(x))\n",
    "        x = F.relu(self.linear2(x))\n",
    "        x = self.linear3(x)\n",
    "        return x\n",
    "    \n",
    "class Model_4 (nn.Module):\n",
    "    def __init__(self):\n",
    "        super().__init__()\n",
    "        self.linear1 = nn.Linear(784, 65)\n",
    "        self.linear2 = nn.Linear(65, 8)\n",
    "        self.linear3 = nn.Linear(8, 10)\n",
    "\n",
    "    def forward(self, x):\n",
    "        x = F.relu(self.linear1(x))\n",
    "        x = F.relu(self.linear2(x))\n",
    "        x = self.linear3(x)\n",
    "        return x\n",
    "    \n",
    "class Model_5 (nn.Module):\n",
    "    def __init__(self):\n",
    "        super().__init__()\n",
    "        self.linear1 = nn.Linear(784, 85)\n",
    "        self.linear2 = nn.Linear(85, 8)\n",
    "        self.linear3 = nn.Linear(8, 10)\n",
    "\n",
    "    def forward(self, x):\n",
    "        x = F.relu(self.linear1(x))\n",
    "        x = F.relu(self.linear2(x))\n",
    "        x = self.linear3(x)\n",
    "        return x\n",
    "    \n",
    "class Model_6 (nn.Module):\n",
    "    def __init__(self):\n",
    "        super().__init__()\n",
    "        self.linear1 = nn.Linear(784, 105)\n",
    "        self.linear2 = nn.Linear(105, 8)\n",
    "        self.linear3 = nn.Linear(8, 10)\n",
    "\n",
    "    def forward(self, x):\n",
    "        x = F.relu(self.linear1(x))\n",
    "        x = F.relu(self.linear2(x))\n",
    "        x = self.linear3(x)\n",
    "        return x\n",
    "\n",
    "class Model_7 (nn.Module):\n",
    "    def __init__(self):\n",
    "        super().__init__()\n",
    "        self.linear1 = nn.Linear(784, 125)\n",
    "        self.linear2 = nn.Linear(125, 8)\n",
    "        self.linear3 = nn.Linear(8, 10)\n",
    "\n",
    "    def forward(self, x):\n",
    "        x = F.relu(self.linear1(x))\n",
    "        x = F.relu(self.linear2(x))\n",
    "        x = self.linear3(x)\n",
    "        return x\n",
    "    \n",
    "class Model_8 (nn.Module):\n",
    "    def __init__(self):\n",
    "        super().__init__()\n",
    "        self.linear1 = nn.Linear(784, 145)\n",
    "        self.linear2 = nn.Linear(145, 8)\n",
    "        self.linear3 = nn.Linear(8, 10)\n",
    "\n",
    "    def forward(self, x):\n",
    "        x = F.relu(self.linear1(x))\n",
    "        x = F.relu(self.linear2(x))\n",
    "        x = self.linear3(x)\n",
    "        return x\n",
    "    \n",
    "class Model_9 (nn.Module):\n",
    "    def __init__(self):\n",
    "        super().__init__()\n",
    "        self.linear1 = nn.Linear(784, 165)\n",
    "        self.linear2 = nn.Linear(165, 8)\n",
    "        self.linear3 = nn.Linear(8, 10)\n",
    "\n",
    "    def forward(self, x):\n",
    "        x = F.relu(self.linear1(x))\n",
    "        x = F.relu(self.linear2(x))\n",
    "        x = self.linear3(x)\n",
    "        return x\n",
    "    \n",
    "class Model_10 (nn.Module):\n",
    "    def __init__(self):\n",
    "        super().__init__()\n",
    "        self.linear1 = nn.Linear(784, 185)\n",
    "        self.linear2 = nn.Linear(185, 8)\n",
    "        self.linear3 = nn.Linear(8, 10)\n",
    "\n",
    "    def forward(self, x):\n",
    "        x = F.relu(self.linear1(x))\n",
    "        x = F.relu(self.linear2(x))\n",
    "        x = self.linear3(x)\n",
    "        return x"
   ]
  },
  {
   "cell_type": "code",
   "execution_count": 60,
   "id": "cee3bb30-d28b-4fa2-8155-75bfd50f8641",
   "metadata": {
    "tags": []
   },
   "outputs": [],
   "source": [
    "def calculate_parameters(modelName, model):\n",
    "    param = sum(p.numel() for p in model.parameters())\n",
    "    print('{}: {}'.format(modelName, param))\n",
    "    return param"
   ]
  },
  {
   "cell_type": "code",
   "execution_count": 61,
   "id": "be0448fb-7fcd-4340-a945-7f6cf5125a03",
   "metadata": {
    "tags": []
   },
   "outputs": [],
   "source": [
    "train_batch_size = 50\n",
    "test_batch_size = 100\n",
    "train_data, test_data = load_data(train_batch_size, test_batch_size)"
   ]
  },
  {
   "cell_type": "code",
   "execution_count": 62,
   "id": "b5dd53a4-e27f-4f7f-ad1c-5a94d69e73bf",
   "metadata": {
    "tags": []
   },
   "outputs": [],
   "source": [
    "def initiliase_optimizer(model):\n",
    "    return optim.Adam(model.parameters(), lr = 0.0001)"
   ]
  },
  {
   "cell_type": "code",
   "execution_count": 63,
   "id": "5e71c34e-0c16-4c65-a726-6037c2af2349",
   "metadata": {
    "tags": []
   },
   "outputs": [],
   "source": [
    "def train(model, optimizer, data):\n",
    "    model.train()\n",
    "    for batch_idx, (data, target) in enumerate(data):\n",
    "        data, target = Variable(data), Variable(target)\n",
    "        optimizer.zero_grad()\n",
    "\n",
    "        output = model(data.view(-1, 784))\n",
    "        loss_fn = torch.nn.CrossEntropyLoss()\n",
    "        loss = loss_fn(output, target)\n",
    "        loss.backward()\n",
    "        optimizer.step()"
   ]
  },
  {
   "cell_type": "code",
   "execution_count": 64,
   "id": "406ab27b-702c-4123-8725-4978fa2a4692",
   "metadata": {
    "tags": []
   },
   "outputs": [],
   "source": [
    "def calculate_op_diff(model, loader):\n",
    "    correct = 0\n",
    "    total = 0\n",
    "    costTotal = 0\n",
    "    costCounter = 0\n",
    "    loss_fn = torch.nn.CrossEntropyLoss()\n",
    "    with torch.no_grad():\n",
    "        for batch in loader:\n",
    "            data, target = batch\n",
    "            output = model(data.view(-1, 784))\n",
    "            cost = loss_fn(output, target)\n",
    "            costTotal += cost\n",
    "            costCounter += 1\n",
    "            for i, outputTensor in enumerate(output):\n",
    "                if torch.argmax(outputTensor) == target[i]:\n",
    "                    correct += 1\n",
    "                total += 1\n",
    "    return costTotal / costCounter, round(correct/total, 3)"
   ]
  },
  {
   "cell_type": "code",
   "execution_count": 65,
   "id": "e5161765-b2d1-41e6-b417-4678b6c6a620",
   "metadata": {
    "tags": []
   },
   "outputs": [],
   "source": [
    "epochs=8\n",
    "param_arr = []\n",
    "train_loss_arr = []\n",
    "test_loss_arr = []\n",
    "train_accuracy_arr = []\n",
    "test_accuracy_arr = []\n",
    "\n",
    "def train_models(model, optimizer, train_data, test_data):\n",
    "    total_train_loss = 0\n",
    "    print('Training model ')\n",
    "    for epoch in range(1, epochs + 1):\n",
    "        train(model, optimizer, train_data)\n",
    "    train_loss, train_acc = calculate_op_diff(model, train_data)\n",
    "    test_loss, test_acc = calculate_op_diff(model, test_data)\n",
    "        \n",
    "    train_loss_arr.append(train_loss)\n",
    "    test_loss_arr.append(test_loss)\n",
    "    train_accuracy_arr.append(train_acc)\n",
    "    test_accuracy_arr.append(test_acc)\n",
    "    param_arr.append(calculate_parameters('Model params',  model))\n",
    "    print('Training completed - ' , train_loss)\n",
    "    print('test loss - ', test_loss)\n",
    "    return train_loss, test_loss"
   ]
  },
  {
   "cell_type": "code",
   "execution_count": 66,
   "id": "4df3cae2-d4d3-4099-a1a2-b83967e00913",
   "metadata": {
    "tags": []
   },
   "outputs": [],
   "source": [
    "loss_arr = []\n",
    "test_loss_arr = []"
   ]
  },
  {
   "cell_type": "code",
   "execution_count": 67,
   "id": "66bc79f5-6af2-4ccf-969b-92a2b40788db",
   "metadata": {
    "tags": []
   },
   "outputs": [
    {
     "name": "stdout",
     "output_type": "stream",
     "text": [
      "Model 1\n",
      "Training model \n",
      "Model params: 4079\n",
      "Training completed -  tensor(0.5044)\n",
      "test loss -  tensor(0.4876)\n"
     ]
    },
    {
     "data": {
      "text/plain": [
       "(tensor(0.5044), tensor(0.4876))"
      ]
     },
     "execution_count": 67,
     "metadata": {},
     "output_type": "execute_result"
    }
   ],
   "source": [
    "model1 = Model_1()\n",
    "# print(\"Model 1 parameters: \", (calculate_parameters(model1)))\n",
    "optimizer = initiliase_optimizer(model1)\n",
    "print('Model 1')\n",
    "train_models(model1, optimizer, train_data, test_data)"
   ]
  },
  {
   "cell_type": "code",
   "execution_count": 68,
   "id": "17bb20f9-7c35-4364-9010-019665875615",
   "metadata": {
    "tags": []
   },
   "outputs": [
    {
     "name": "stdout",
     "output_type": "stream",
     "text": [
      "Model 3\n",
      "Training model \n",
      "Model params: 35783\n",
      "Training completed -  tensor(0.2051)\n",
      "test loss -  tensor(0.2096)\n"
     ]
    }
   ],
   "source": [
    "model1 = Model_3()\n",
    "# print(\"Model 1 parameters: \", (calculate_parameters(model1)))\n",
    "optimizer = initiliase_optimizer(model1)\n",
    "print('Model 3')\n",
    "loss = train_models(model1, optimizer, train_data, test_data)"
   ]
  },
  {
   "cell_type": "code",
   "execution_count": 69,
   "id": "8033b277-756a-4e9b-a94e-d18e4a3ae787",
   "metadata": {
    "tags": []
   },
   "outputs": [
    {
     "name": "stdout",
     "output_type": "stream",
     "text": [
      "Model 4\n",
      "Training model \n",
      "Model params: 51643\n",
      "Training completed -  tensor(0.1745)\n",
      "test loss -  tensor(0.1825)\n"
     ]
    }
   ],
   "source": [
    "model1 = Model_4()\n",
    "# print(\"Model 1 parameters: \", (calculate_parameters(model1)))\n",
    "optimizer = initiliase_optimizer(model1)\n",
    "print('Model 4')\n",
    "loss = train_models(model1, optimizer, train_data, test_data)"
   ]
  },
  {
   "cell_type": "code",
   "execution_count": 70,
   "id": "98879db8-220f-4067-b58c-03bbcf20d551",
   "metadata": {
    "tags": []
   },
   "outputs": [
    {
     "name": "stdout",
     "output_type": "stream",
     "text": [
      "Model 5\n",
      "Training model \n",
      "Model params: 67503\n",
      "Training completed -  tensor(0.1600)\n",
      "test loss -  tensor(0.1691)\n"
     ]
    }
   ],
   "source": [
    "model1 = Model_5()\n",
    "# print(\"Model 1 parameters: \", (calculate_parameters(model1)))\n",
    "optimizer = initiliase_optimizer(model1)\n",
    "print('Model 5')\n",
    "loss = train_models(model1, optimizer, train_data, test_data)"
   ]
  },
  {
   "cell_type": "code",
   "execution_count": 71,
   "id": "29c02c62-61fd-47d5-92f3-2aa047f7b5a6",
   "metadata": {
    "tags": []
   },
   "outputs": [
    {
     "name": "stdout",
     "output_type": "stream",
     "text": [
      "Model 6\n",
      "Training model \n",
      "Model params: 83363\n",
      "Training completed -  tensor(0.1454)\n",
      "test loss -  tensor(0.1552)\n"
     ]
    }
   ],
   "source": [
    "\n",
    "model1 = Model_6()\n",
    "# print(\"Model 1 parameters: \", (calculate_parameters(model1)))\n",
    "optimizer = initiliase_optimizer(model1)\n",
    "print('Model 6')\n",
    "loss = train_models(model1, optimizer, train_data, test_data)"
   ]
  },
  {
   "cell_type": "code",
   "execution_count": 72,
   "id": "a2012637-df87-4bed-ae28-e2b0f54e3b4b",
   "metadata": {
    "tags": []
   },
   "outputs": [
    {
     "name": "stdout",
     "output_type": "stream",
     "text": [
      "Model 7\n",
      "Training model \n",
      "Model params: 99223\n",
      "Training completed -  tensor(0.1341)\n",
      "test loss -  tensor(0.1523)\n"
     ]
    }
   ],
   "source": [
    "model1 = Model_7()\n",
    "# print(\"Model 1 parameters: \", (calculate_parameters(model1)))\n",
    "optimizer = initiliase_optimizer(model1)\n",
    "print('Model 7')\n",
    "loss = train_models(model1, optimizer, train_data, test_data)"
   ]
  },
  {
   "cell_type": "code",
   "execution_count": 73,
   "id": "440641e5-741c-49b5-a6cd-e76dbf836b08",
   "metadata": {
    "tags": []
   },
   "outputs": [
    {
     "name": "stdout",
     "output_type": "stream",
     "text": [
      "Model 8\n",
      "Training model \n",
      "Model params: 115083\n",
      "Training completed -  tensor(0.1489)\n",
      "test loss -  tensor(0.1626)\n"
     ]
    }
   ],
   "source": [
    "model1 = Model_8()\n",
    "# print(\"Model 1 parameters: \", (calculate_parameters(model1)))\n",
    "optimizer = initiliase_optimizer(model1)\n",
    "print('Model 8')\n",
    "loss = train_models(model1, optimizer, train_data, test_data)"
   ]
  },
  {
   "cell_type": "code",
   "execution_count": 74,
   "id": "79071467-4a83-49a3-80ea-7829c77f8b3c",
   "metadata": {
    "tags": []
   },
   "outputs": [
    {
     "name": "stdout",
     "output_type": "stream",
     "text": [
      "Model 9\n",
      "Training model \n",
      "Model params: 130943\n",
      "Training completed -  tensor(0.1197)\n",
      "test loss -  tensor(0.1368)\n"
     ]
    }
   ],
   "source": [
    "model1 = Model_9()\n",
    "# print(\"Model 1 parameters: \", (calculate_parameters(model1)))\n",
    "optimizer = initiliase_optimizer(model1)\n",
    "print('Model 9')\n",
    "loss = train_models(model1, optimizer, train_data, test_data)"
   ]
  },
  {
   "cell_type": "code",
   "execution_count": 75,
   "id": "2b3ebf81-1ca3-40b6-b0ca-de9a4454954f",
   "metadata": {
    "tags": []
   },
   "outputs": [
    {
     "name": "stdout",
     "output_type": "stream",
     "text": [
      "Model 10\n",
      "Training model \n",
      "Model params: 146803\n",
      "Training completed -  tensor(0.1055)\n",
      "test loss -  tensor(0.1266)\n"
     ]
    }
   ],
   "source": [
    "\n",
    "model1 = Model_10()\n",
    "# print(\"Model 1 parameters: \", (calculate_parameters(model1)))\n",
    "optimizer = initiliase_optimizer(model1)\n",
    "print('Model 10')\n",
    "loss = train_models(model1, optimizer, train_data, test_data)"
   ]
  },
  {
   "cell_type": "code",
   "execution_count": 76,
   "id": "0621ac9f-0c0b-4a61-9441-b8e44d29833b",
   "metadata": {
    "tags": []
   },
   "outputs": [
    {
     "data": {
      "image/png": "[encoded data removed]",
      "text/plain": [
       "<Figure size 640x480 with 1 Axes>"
      ]
     },
     "metadata": {},
     "output_type": "display_data"
    }
   ],
   "source": [
    "plt.xlabel('Parameters')\n",
    "plt.ylabel('Loss')\n",
    "plt.scatter(param_arr,train_loss_arr,  color = \"orange\")\n",
    "plt.scatter(param_arr,test_loss_arr,  color = \"purple\")\n",
    "plt.legend(['Train', 'Test'])\n",
    "plt.show()"
   ]
  },
  {
   "cell_type": "code",
   "execution_count": 77,
   "id": "25e75b74-d9cc-49cc-ad01-c74a9ddd8ca1",
   "metadata": {
    "tags": []
   },
   "outputs": [
    {
     "data": {
      "image/png": "[encoded data removed]",
      "text/plain": [
       "<Figure size 640x480 with 1 Axes>"
      ]
     },
     "metadata": {},
     "output_type": "display_data"
    }
   ],
   "source": [
    "plt.xlabel('Parameters')\n",
    "plt.ylabel('Accuracy')\n",
    "plt.scatter(param_arr,train_accuracy_arr,  color = \"orange\")\n",
    "plt.scatter(param_arr,test_accuracy_arr,  color = \"purple\")\n",
    "plt.legend(['Train', 'Test'])\n",
    "plt.show()"
   ]
  },
  {
   "cell_type": "code",
   "execution_count": 78,
   "id": "c24edd0f-53ea-43f3-b708-a4993e7333c2",
   "metadata": {
    "tags": []
   },
   "outputs": [],
   "source": [
    "transforms= transforms.Compose([\n",
    "                transforms.Resize((32, 32)),\n",
    "                transforms.ToTensor(),\n",
    "                transforms.Normalize((0.1307,), (0.3081,))\n",
    "                ])"
   ]
  },
  {
   "cell_type": "code",
   "execution_count": 79,
   "id": "ab84c35a-fe68-4daf-ba0b-220ea986e71a",
   "metadata": {
    "tags": []
   },
   "outputs": [],
   "source": [
    "def load_assign_rand_labels(training_size, testing_size):\n",
    "    trainset = datasets.MNIST('data', train = True, download = False, \n",
    "                transform = transforms)\n",
    "    # Assign random labels to the images\n",
    "    trainset.targets = torch.tensor(np.random.randint(0, 10, (len(trainset)),))\n",
    "    train_loader = torch.utils.data.DataLoader(trainset, batch_size=training_size, shuffle=True)\n",
    "\n",
    "    testset = datasets.MNIST('data', train = False, \n",
    "                transform = transforms)\n",
    "    test_loader = torch.utils.data.DataLoader(testset ,batch_size = testing_size, shuffle=True)\n",
    "\n",
    "    return (train_loader, test_loader)"
   ]
  },
  {
   "cell_type": "code",
   "execution_count": 80,
   "id": "4ab9afb1-a7c4-40b5-9c2f-0c6595952073",
   "metadata": {
    "tags": []
   },
   "outputs": [],
   "source": [
    "class Model(nn.Module):\n",
    "    def __init__(self):\n",
    "        super(Model, self).__init__()\n",
    "        self.c1 = nn.Conv2d(1, 5, 5)\n",
    "        self.c2 = nn.Conv2d(5, 16, 5)\n",
    "        self.l1 = nn.Linear(16 * 5 * 5, 100)\n",
    "        self.l2 = nn.Linear(100, 84)\n",
    "        self.l3 = nn.Linear(84, 10)\n",
    "    def forward(self, x):\n",
    "        x = F.relu(self.c1(x))\n",
    "        x = F.max_pool2d(x, 2)\n",
    "        x = F.relu(self.c2(x))\n",
    "        x = F.max_pool2d(x, 2)\n",
    "\n",
    "        x = x.view(x.size()[0], -1)\n",
    "        x = F.relu(self.l1(x))\n",
    "        x = F.relu(self.l2(x))\n",
    "\n",
    "        x = self.l3(x)\n",
    "        return x"
   ]
  },
  {
   "cell_type": "code",
   "execution_count": 81,
   "id": "d7d41aac-7cca-4c77-baa4-209f4504b3e2",
   "metadata": {
    "tags": []
   },
   "outputs": [],
   "source": [
    "training_size = 100\n",
    "testing_size = 100\n",
    "train_loader, test_loader = load_assign_rand_labels(training_size, testing_size)"
   ]
  },
  {
   "cell_type": "code",
   "execution_count": 82,
   "id": "0f41db05-1ec9-4b34-b44f-91e3eb4c9d45",
   "metadata": {
    "tags": []
   },
   "outputs": [],
   "source": [
    "def train_func(model, optimizer, train_data):\n",
    "    model.train()\n",
    "    correct = 0\n",
    "    train_loss = 0\n",
    "    counter = 0\n",
    "\n",
    "    for batch_idx, (data, target) in enumerate(train_data):\n",
    "        counter += 1\n",
    "        data, target = Variable(data), Variable(target)\n",
    "        optimizer.zero_grad()\n",
    "\n",
    "        # Forward propagation\n",
    "        output = model(data)\n",
    "        loss = loss_fn(output, target)\n",
    "        loss.backward()\n",
    "        optimizer.step()\n",
    "\n",
    "        train_loss += loss.data\n",
    "\n",
    "        pred = np.argmax(output.data, axis=1)\n",
    "        correct += np.equal(pred, target.data).sum()\n",
    "    \n",
    "    train_loss = (train_loss * 100) / len(train_data.dataset)\n",
    "    accuracy = 100.0 * correct / len(train_data.dataset)\n",
    "    return train_loss, accuracy"
   ]
  },
  {
   "cell_type": "code",
   "execution_count": 83,
   "id": "7e2629d5-7244-46ad-b0fb-8d4967899f4e",
   "metadata": {
    "tags": []
   },
   "outputs": [],
   "source": [
    "def test_func(model, epoch, test_data):\n",
    "    model.eval()\n",
    "    test_loss = 0\n",
    "    correct = 0\n",
    "\n",
    "    for data, target in test_data:\n",
    "        data, target = Variable(data), Variable(target)\n",
    "        \n",
    "        output = model(data)\n",
    "        loss = loss_fn(output, target)\n",
    "        test_loss += loss.data\n",
    "\n",
    "        pred = np.argmax(output.data, axis = 1)\n",
    "        correct = correct + np.equal(pred, target.data).sum()\n",
    "\n",
    "    test_loss = (test_loss * 100) / len(test_loader.dataset)\n",
    "    print('\\nTest set, Epoch {} , Average loss: {:.4f}, Accuracy: {:.0f}%\\n'.format(epoch, test_loss,\n",
    "        100. * correct / len(test_data.dataset)))\n",
    "    return test_loss"
   ]
  },
  {
   "cell_type": "code",
   "execution_count": 84,
   "id": "c953b7cc-fab9-4164-ac32-ba77254f31b2",
   "metadata": {
    "tags": []
   },
   "outputs": [
    {
     "name": "stdout",
     "output_type": "stream",
     "text": [
      "Training epoch -  1\n",
      "\n",
      "Test set, Epoch 1 , Average loss: 2.3016, Accuracy: 17%\n",
      "\n",
      "Training epoch -  2\n",
      "\n",
      "Test set, Epoch 2 , Average loss: 2.3008, Accuracy: 9%\n",
      "\n",
      "Training epoch -  3\n",
      "\n",
      "Test set, Epoch 3 , Average loss: 2.3010, Accuracy: 5%\n",
      "\n",
      "Training epoch -  4\n",
      "\n",
      "Test set, Epoch 4 , Average loss: 2.2953, Accuracy: 12%\n",
      "\n",
      "Training epoch -  5\n",
      "\n",
      "Test set, Epoch 5 , Average loss: 2.2987, Accuracy: 9%\n",
      "\n",
      "Training epoch -  6\n",
      "\n",
      "Test set, Epoch 6 , Average loss: 2.3004, Accuracy: 13%\n",
      "\n",
      "Training epoch -  7\n",
      "\n",
      "Test set, Epoch 7 , Average loss: 2.3043, Accuracy: 9%\n",
      "\n",
      "Training epoch -  8\n",
      "\n",
      "Test set, Epoch 8 , Average loss: 2.3071, Accuracy: 7%\n",
      "\n",
      "Training epoch -  9\n",
      "\n",
      "Test set, Epoch 9 , Average loss: 2.3056, Accuracy: 11%\n",
      "\n",
      "Training epoch -  10\n",
      "\n",
      "Test set, Epoch 10 , Average loss: 2.3066, Accuracy: 10%\n",
      "\n",
      "Training epoch -  11\n",
      "\n",
      "Test set, Epoch 11 , Average loss: 2.3103, Accuracy: 8%\n",
      "\n",
      "Training epoch -  12\n",
      "\n",
      "Test set, Epoch 12 , Average loss: 2.3034, Accuracy: 9%\n",
      "\n",
      "Training epoch -  13\n",
      "\n",
      "Test set, Epoch 13 , Average loss: 2.3112, Accuracy: 7%\n",
      "\n",
      "Training epoch -  14\n",
      "\n",
      "Test set, Epoch 14 , Average loss: 2.3096, Accuracy: 8%\n",
      "\n",
      "Training epoch -  15\n",
      "\n",
      "Test set, Epoch 15 , Average loss: 2.3136, Accuracy: 7%\n",
      "\n",
      "Training epoch -  16\n",
      "\n",
      "Test set, Epoch 16 , Average loss: 2.3156, Accuracy: 9%\n",
      "\n",
      "Training epoch -  17\n",
      "\n",
      "Test set, Epoch 17 , Average loss: 2.3266, Accuracy: 7%\n",
      "\n",
      "Training epoch -  18\n",
      "\n",
      "Test set, Epoch 18 , Average loss: 2.3222, Accuracy: 9%\n",
      "\n",
      "Training epoch -  19\n",
      "\n",
      "Test set, Epoch 19 , Average loss: 2.3176, Accuracy: 10%\n",
      "\n",
      "Training epoch -  20\n",
      "\n",
      "Test set, Epoch 20 , Average loss: 2.3285, Accuracy: 9%\n",
      "\n",
      "Training epoch -  21\n",
      "\n",
      "Test set, Epoch 21 , Average loss: 2.3114, Accuracy: 9%\n",
      "\n",
      "Training epoch -  22\n",
      "\n",
      "Test set, Epoch 22 , Average loss: 2.3448, Accuracy: 9%\n",
      "\n",
      "Training epoch -  23\n",
      "\n",
      "Test set, Epoch 23 , Average loss: 2.3378, Accuracy: 8%\n",
      "\n",
      "Training epoch -  24\n",
      "\n",
      "Test set, Epoch 24 , Average loss: 2.3299, Accuracy: 9%\n",
      "\n",
      "Training epoch -  25\n",
      "\n",
      "Test set, Epoch 25 , Average loss: 2.3257, Accuracy: 9%\n",
      "\n",
      "Training epoch -  26\n",
      "\n",
      "Test set, Epoch 26 , Average loss: 2.3344, Accuracy: 10%\n",
      "\n",
      "Training epoch -  27\n",
      "\n",
      "Test set, Epoch 27 , Average loss: 2.3451, Accuracy: 9%\n",
      "\n",
      "Training epoch -  28\n",
      "\n",
      "Test set, Epoch 28 , Average loss: 2.3327, Accuracy: 11%\n",
      "\n",
      "Training epoch -  29\n",
      "\n",
      "Test set, Epoch 29 , Average loss: 2.3582, Accuracy: 8%\n",
      "\n",
      "Training epoch -  30\n",
      "\n",
      "Test set, Epoch 30 , Average loss: 2.3354, Accuracy: 11%\n",
      "\n",
      "Training epoch -  31\n",
      "\n",
      "Test set, Epoch 31 , Average loss: 2.3413, Accuracy: 10%\n",
      "\n",
      "Training epoch -  32\n",
      "\n",
      "Test set, Epoch 32 , Average loss: 2.3327, Accuracy: 11%\n",
      "\n",
      "Training epoch -  33\n",
      "\n",
      "Test set, Epoch 33 , Average loss: 2.3537, Accuracy: 10%\n",
      "\n",
      "Training epoch -  34\n",
      "\n",
      "Test set, Epoch 34 , Average loss: 2.3534, Accuracy: 10%\n",
      "\n",
      "Training epoch -  35\n",
      "\n",
      "Test set, Epoch 35 , Average loss: 2.3461, Accuracy: 11%\n",
      "\n",
      "Training epoch -  36\n",
      "\n",
      "Test set, Epoch 36 , Average loss: 2.3594, Accuracy: 10%\n",
      "\n",
      "Training epoch -  37\n",
      "\n",
      "Test set, Epoch 37 , Average loss: 2.3486, Accuracy: 9%\n",
      "\n",
      "Training epoch -  38\n",
      "\n",
      "Test set, Epoch 38 , Average loss: 2.3603, Accuracy: 9%\n",
      "\n",
      "Training epoch -  39\n",
      "\n",
      "Test set, Epoch 39 , Average loss: 2.3359, Accuracy: 11%\n",
      "\n",
      "Training epoch -  40\n",
      "\n",
      "Test set, Epoch 40 , Average loss: 2.3779, Accuracy: 9%\n",
      "\n",
      "Training epoch -  41\n",
      "\n",
      "Test set, Epoch 41 , Average loss: 2.3893, Accuracy: 9%\n",
      "\n",
      "Training epoch -  42\n",
      "\n",
      "Test set, Epoch 42 , Average loss: 2.3647, Accuracy: 10%\n",
      "\n",
      "Training epoch -  43\n",
      "\n",
      "Test set, Epoch 43 , Average loss: 2.3716, Accuracy: 11%\n",
      "\n",
      "Training epoch -  44\n",
      "\n",
      "Test set, Epoch 44 , Average loss: 2.3669, Accuracy: 11%\n",
      "\n",
      "Training epoch -  45\n",
      "\n",
      "Test set, Epoch 45 , Average loss: 2.3884, Accuracy: 10%\n",
      "\n",
      "Training epoch -  46\n",
      "\n",
      "Test set, Epoch 46 , Average loss: 2.4157, Accuracy: 10%\n",
      "\n",
      "Training epoch -  47\n",
      "\n",
      "Test set, Epoch 47 , Average loss: 2.3749, Accuracy: 11%\n",
      "\n",
      "Training epoch -  48\n",
      "\n",
      "Test set, Epoch 48 , Average loss: 2.3959, Accuracy: 9%\n",
      "\n",
      "Training epoch -  49\n",
      "\n",
      "Test set, Epoch 49 , Average loss: 2.3961, Accuracy: 10%\n",
      "\n",
      "Training epoch -  50\n",
      "\n",
      "Test set, Epoch 50 , Average loss: 2.3849, Accuracy: 10%\n",
      "\n",
      "Training epoch -  51\n",
      "\n",
      "Test set, Epoch 51 , Average loss: 2.3935, Accuracy: 9%\n",
      "\n",
      "Training epoch -  52\n",
      "\n",
      "Test set, Epoch 52 , Average loss: 2.3938, Accuracy: 10%\n",
      "\n",
      "Training epoch -  53\n",
      "\n",
      "Test set, Epoch 53 , Average loss: 2.4394, Accuracy: 9%\n",
      "\n",
      "Training epoch -  54\n",
      "\n",
      "Test set, Epoch 54 , Average loss: 2.3965, Accuracy: 10%\n",
      "\n",
      "Training epoch -  55\n",
      "\n",
      "Test set, Epoch 55 , Average loss: 2.4027, Accuracy: 10%\n",
      "\n",
      "Training epoch -  56\n",
      "\n",
      "Test set, Epoch 56 , Average loss: 2.4022, Accuracy: 11%\n",
      "\n",
      "Training epoch -  57\n",
      "\n",
      "Test set, Epoch 57 , Average loss: 2.3738, Accuracy: 11%\n",
      "\n",
      "Training epoch -  58\n",
      "\n",
      "Test set, Epoch 58 , Average loss: 2.4037, Accuracy: 10%\n",
      "\n",
      "Training epoch -  59\n",
      "\n",
      "Test set, Epoch 59 , Average loss: 2.3940, Accuracy: 11%\n",
      "\n",
      "Training epoch -  60\n",
      "\n",
      "Test set, Epoch 60 , Average loss: 2.4571, Accuracy: 9%\n",
      "\n",
      "Training epoch -  61\n",
      "\n",
      "Test set, Epoch 61 , Average loss: 2.4222, Accuracy: 9%\n",
      "\n",
      "Training epoch -  62\n",
      "\n",
      "Test set, Epoch 62 , Average loss: 2.4297, Accuracy: 9%\n",
      "\n",
      "Training epoch -  63\n",
      "\n",
      "Test set, Epoch 63 , Average loss: 2.4217, Accuracy: 10%\n",
      "\n",
      "Training epoch -  64\n",
      "\n",
      "Test set, Epoch 64 , Average loss: 2.4363, Accuracy: 10%\n",
      "\n",
      "Training epoch -  65\n",
      "\n",
      "Test set, Epoch 65 , Average loss: 2.4382, Accuracy: 10%\n",
      "\n",
      "Training epoch -  66\n",
      "\n",
      "Test set, Epoch 66 , Average loss: 2.4547, Accuracy: 11%\n",
      "\n",
      "Training epoch -  67\n",
      "\n",
      "Test set, Epoch 67 , Average loss: 2.4210, Accuracy: 10%\n",
      "\n",
      "Training epoch -  68\n",
      "\n",
      "Test set, Epoch 68 , Average loss: 2.4058, Accuracy: 11%\n",
      "\n",
      "Training epoch -  69\n",
      "\n",
      "Test set, Epoch 69 , Average loss: 2.4373, Accuracy: 10%\n",
      "\n",
      "Training epoch -  70\n",
      "\n",
      "Test set, Epoch 70 , Average loss: 2.4339, Accuracy: 10%\n",
      "\n",
      "Training epoch -  71\n",
      "\n",
      "Test set, Epoch 71 , Average loss: 2.4465, Accuracy: 10%\n",
      "\n",
      "Training epoch -  72\n",
      "\n",
      "Test set, Epoch 72 , Average loss: 2.4493, Accuracy: 10%\n",
      "\n",
      "Training epoch -  73\n",
      "\n",
      "Test set, Epoch 73 , Average loss: 2.4706, Accuracy: 10%\n",
      "\n",
      "Training epoch -  74\n",
      "\n",
      "Test set, Epoch 74 , Average loss: 2.4537, Accuracy: 10%\n",
      "\n",
      "Training epoch -  75\n",
      "\n",
      "Test set, Epoch 75 , Average loss: 2.4568, Accuracy: 10%\n",
      "\n",
      "Training epoch -  76\n",
      "\n",
      "Test set, Epoch 76 , Average loss: 2.4257, Accuracy: 12%\n",
      "\n",
      "Training epoch -  77\n",
      "\n",
      "Test set, Epoch 77 , Average loss: 2.4679, Accuracy: 10%\n",
      "\n",
      "Training epoch -  78\n",
      "\n",
      "Test set, Epoch 78 , Average loss: 2.4633, Accuracy: 11%\n",
      "\n",
      "Training epoch -  79\n",
      "\n",
      "Test set, Epoch 79 , Average loss: 2.4832, Accuracy: 9%\n",
      "\n",
      "Training epoch -  80\n",
      "\n",
      "Test set, Epoch 80 , Average loss: 2.4906, Accuracy: 10%\n",
      "\n",
      "Training epoch -  81\n",
      "\n",
      "Test set, Epoch 81 , Average loss: 2.5049, Accuracy: 10%\n",
      "\n",
      "Training epoch -  82\n",
      "\n",
      "Test set, Epoch 82 , Average loss: 2.4696, Accuracy: 10%\n",
      "\n",
      "Training epoch -  83\n",
      "\n",
      "Test set, Epoch 83 , Average loss: 2.4432, Accuracy: 11%\n",
      "\n",
      "Training epoch -  84\n",
      "\n",
      "Test set, Epoch 84 , Average loss: 2.4971, Accuracy: 9%\n",
      "\n",
      "Training epoch -  85\n",
      "\n",
      "Test set, Epoch 85 , Average loss: 2.4749, Accuracy: 10%\n",
      "\n",
      "Training epoch -  86\n",
      "\n",
      "Test set, Epoch 86 , Average loss: 2.4776, Accuracy: 10%\n",
      "\n",
      "Training epoch -  87\n",
      "\n",
      "Test set, Epoch 87 , Average loss: 2.5171, Accuracy: 10%\n",
      "\n",
      "Training epoch -  88\n",
      "\n",
      "Test set, Epoch 88 , Average loss: 2.4775, Accuracy: 10%\n",
      "\n",
      "Training epoch -  89\n",
      "\n",
      "Test set, Epoch 89 , Average loss: 2.5361, Accuracy: 8%\n",
      "\n",
      "Training epoch -  90\n",
      "\n",
      "Test set, Epoch 90 , Average loss: 2.4978, Accuracy: 10%\n",
      "\n",
      "Training epoch -  91\n",
      "\n",
      "Test set, Epoch 91 , Average loss: 2.5329, Accuracy: 10%\n",
      "\n",
      "Training epoch -  92\n",
      "\n",
      "Test set, Epoch 92 , Average loss: 2.5113, Accuracy: 11%\n",
      "\n",
      "Training epoch -  93\n",
      "\n",
      "Test set, Epoch 93 , Average loss: 2.5500, Accuracy: 10%\n",
      "\n",
      "Training epoch -  94\n",
      "\n",
      "Test set, Epoch 94 , Average loss: 2.5267, Accuracy: 11%\n",
      "\n",
      "Training epoch -  95\n",
      "\n",
      "Test set, Epoch 95 , Average loss: 2.4963, Accuracy: 11%\n",
      "\n",
      "Training epoch -  96\n",
      "\n",
      "Test set, Epoch 96 , Average loss: 2.5391, Accuracy: 9%\n",
      "\n",
      "Training epoch -  97\n",
      "\n",
      "Test set, Epoch 97 , Average loss: 2.5306, Accuracy: 10%\n",
      "\n",
      "Training epoch -  98\n",
      "\n",
      "Test set, Epoch 98 , Average loss: 2.5238, Accuracy: 10%\n",
      "\n",
      "Training epoch -  99\n",
      "\n",
      "Test set, Epoch 99 , Average loss: 2.5499, Accuracy: 10%\n",
      "\n",
      "Training epoch -  100\n",
      "\n",
      "Test set, Epoch 100 , Average loss: 2.5126, Accuracy: 10%\n",
      "\n"
     ]
    }
   ],
   "source": [
    "model = Model()\n",
    "\n",
    "optimizer = optim.Adam(model.parameters(), lr=0.0001)\n",
    "train_loss_arr = []\n",
    "test_loss_arr = []\n",
    "epoch_arr = []\n",
    "\n",
    "epochs = 100\n",
    "# log_interval = 500\n",
    "loss_fn = torch.nn.CrossEntropyLoss()\n",
    "\n",
    "for epoch in range(1, epochs + 1):\n",
    "    print('Training epoch - ', epoch)\n",
    "    tr_loss, acc = train_func(model, optimizer, train_loader)\n",
    "    train_loss_arr.append(tr_loss)\n",
    "    loss_test = test_func(model, epoch, test_loader)\n",
    "    test_loss_arr.append(loss_test)\n",
    "    epoch_arr.append(epoch)"
   ]
  },
  {
   "cell_type": "code",
   "execution_count": 85,
   "id": "e6d21561-70c3-40e8-b537-f37569f37909",
   "metadata": {
    "tags": []
   },
   "outputs": [
    {
     "data": {
      "image/png": "[encoded data removed]",
      "text/plain": [
       "<Figure size 640x480 with 1 Axes>"
      ]
     },
     "metadata": {},
     "output_type": "display_data"
    }
   ],
   "source": [
    "plt.plot(epoch_arr, test_loss_arr, color = \"orange\")\n",
    "plt.plot(epoch_arr, train_loss_arr, color = \"purple\")\n",
    "plt.xlabel('Epoch')\n",
    "plt.ylabel('Loss')\n",
    "plt.legend(['Test', 'Train'])\n",
    "plt.show()"
   ]
  },
  {
   "cell_type": "code",
   "execution_count": 86,
   "id": "78143d31-8eb6-4cdb-b57f-32b0a8329471",
   "metadata": {
    "tags": []
   },
   "outputs": [
    {
     "name": "stdout",
     "output_type": "stream",
     "text": [
      "51580\n"
     ]
    }
   ],
   "source": [
    "model_param = Model()\n",
    "param = sum(p.numel() for p in model.parameters())\n",
    "print(param)\n"
   ]
  },
  {
   "cell_type": "code",
   "execution_count": null,
   "id": "e4f24af5-ca11-40ac-9bd8-e7920f37d476",
   "metadata": {},
   "outputs": [],
   "source": []
  }
 ],
 "metadata": {
  "kernelspec": {
   "display_name": "Python 3 (ipykernel)",
   "language": "python",
   "name": "python3"
  },
  "language_info": {
   "codemirror_mode": {
    "name": "ipython",
    "version": 3
   },
   "file_extension": ".py",
   "mimetype": "text/x-python",
   "name": "python",
   "nbconvert_exporter": "python",
   "pygments_lexer": "ipython3",
   "version": "3.11.5"
  }
 },
 "nbformat": 4,
 "nbformat_minor": 5
}
